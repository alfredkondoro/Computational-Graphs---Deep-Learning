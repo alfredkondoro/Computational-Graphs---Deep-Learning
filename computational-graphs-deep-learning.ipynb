{
 "cells": [
  {
   "cell_type": "markdown",
   "id": "c0ee877c",
   "metadata": {
    "papermill": {
     "duration": 0.004143,
     "end_time": "2024-03-30T13:36:51.757837",
     "exception": false,
     "start_time": "2024-03-30T13:36:51.753694",
     "status": "completed"
    },
    "tags": []
   },
   "source": [
    "## Operations"
   ]
  },
  {
   "cell_type": "code",
   "execution_count": 1,
   "id": "7a522bca",
   "metadata": {
    "_cell_guid": "b1076dfc-b9ad-4769-8c92-a6c4dae69d19",
    "_uuid": "8f2839f25d086af736a60e9eeb907d3b93b6e0e5",
    "execution": {
     "iopub.execute_input": "2024-03-30T13:36:51.765208Z",
     "iopub.status.busy": "2024-03-30T13:36:51.764188Z",
     "iopub.status.idle": "2024-03-30T13:36:51.776261Z",
     "shell.execute_reply": "2024-03-30T13:36:51.775568Z"
    },
    "papermill": {
     "duration": 0.017791,
     "end_time": "2024-03-30T13:36:51.778253",
     "exception": false,
     "start_time": "2024-03-30T13:36:51.760462",
     "status": "completed"
    },
    "tags": []
   },
   "outputs": [],
   "source": [
    "class Operation:\n",
    "    \"\"\"Represents a graph node that performs a computation.\n",
    "\n",
    "    An `Operation` is a node in a `Graph` that takes zero or\n",
    "    more objects as input, and produces zero or more objects\n",
    "    as output.\n",
    "    \"\"\"\n",
    "\n",
    "    def __init__(self, input_nodes=[]):\n",
    "        \"\"\"Construct Operation\n",
    "        \"\"\"\n",
    "        self.input_nodes = input_nodes\n",
    "\n",
    "        # Initialize list of consumers (i.e. nodes that receive this operation's output as input)\n",
    "        self.consumers = []\n",
    "\n",
    "        # Append this operation to the list of consumers of all input nodes\n",
    "        for input_node in input_nodes:\n",
    "            input_node.consumers.append(self)\n",
    "\n",
    "        # Append this operation to the list of operations in the currently active default graph\n",
    "        _default_graph.operations.append(self)\n",
    "\n",
    "    def compute(self):\n",
    "        \"\"\"Computes the output of this operation.\n",
    "        \"\" Must be implemented by the particular operation.\n",
    "        \"\"\"\n",
    "        pass"
   ]
  },
  {
   "cell_type": "markdown",
   "id": "885f6f20",
   "metadata": {
    "papermill": {
     "duration": 0.00193,
     "end_time": "2024-03-30T13:36:51.782432",
     "exception": false,
     "start_time": "2024-03-30T13:36:51.780502",
     "status": "completed"
    },
    "tags": []
   },
   "source": [
    "## Elementary operations - Addition"
   ]
  },
  {
   "cell_type": "code",
   "execution_count": 2,
   "id": "5fde5c6c",
   "metadata": {
    "execution": {
     "iopub.execute_input": "2024-03-30T13:36:51.788105Z",
     "iopub.status.busy": "2024-03-30T13:36:51.787635Z",
     "iopub.status.idle": "2024-03-30T13:36:51.792104Z",
     "shell.execute_reply": "2024-03-30T13:36:51.791459Z"
    },
    "papermill": {
     "duration": 0.009373,
     "end_time": "2024-03-30T13:36:51.793866",
     "exception": false,
     "start_time": "2024-03-30T13:36:51.784493",
     "status": "completed"
    },
    "tags": []
   },
   "outputs": [],
   "source": [
    "class add(Operation):\n",
    "    \"\"\"Returns x + y element-wise.\n",
    "    \"\"\"\n",
    "\n",
    "    def __init__(self, x, y):\n",
    "        \"\"\"Construct add\n",
    "\n",
    "        Args:\n",
    "          x: First summand node\n",
    "          y: Second summand node\n",
    "        \"\"\"\n",
    "        super().__init__([x, y])\n",
    "\n",
    "    def compute(self, x_value, y_value):\n",
    "        \"\"\"Compute the output of the add operation\n",
    "\n",
    "        Args:\n",
    "          x_value: First summand value\n",
    "          y_value: Second summand value\n",
    "        \"\"\"\n",
    "        return x_value + y_value"
   ]
  },
  {
   "cell_type": "markdown",
   "id": "3356e672",
   "metadata": {
    "papermill": {
     "duration": 0.001882,
     "end_time": "2024-03-30T13:36:51.797869",
     "exception": false,
     "start_time": "2024-03-30T13:36:51.795987",
     "status": "completed"
    },
    "tags": []
   },
   "source": [
    "## Matrix Multiplication"
   ]
  },
  {
   "cell_type": "code",
   "execution_count": 3,
   "id": "93dc0337",
   "metadata": {
    "execution": {
     "iopub.execute_input": "2024-03-30T13:36:51.803466Z",
     "iopub.status.busy": "2024-03-30T13:36:51.803033Z",
     "iopub.status.idle": "2024-03-30T13:36:51.807402Z",
     "shell.execute_reply": "2024-03-30T13:36:51.806801Z"
    },
    "papermill": {
     "duration": 0.009236,
     "end_time": "2024-03-30T13:36:51.809173",
     "exception": false,
     "start_time": "2024-03-30T13:36:51.799937",
     "status": "completed"
    },
    "tags": []
   },
   "outputs": [],
   "source": [
    "class matmul(Operation):\n",
    "    \"\"\"Multiplies matrix a by matrix b, producing a * b.\n",
    "    \"\"\"\n",
    "\n",
    "    def __init__(self, a, b):\n",
    "        \"\"\"Construct matmul\n",
    "\n",
    "        Args:\n",
    "          a: First matrix\n",
    "          b: Second matrix\n",
    "        \"\"\"\n",
    "        super().__init__([a, b])\n",
    "\n",
    "    def compute(self, a_value, b_value):\n",
    "        \"\"\"Compute the output of the matmul operation\n",
    "\n",
    "        Args:\n",
    "          a_value: First matrix value\n",
    "          b_value: Second matrix value\n",
    "        \"\"\"\n",
    "        return a_value.dot(b_value)"
   ]
  },
  {
   "cell_type": "markdown",
   "id": "a4884a61",
   "metadata": {
    "papermill": {
     "duration": 0.001892,
     "end_time": "2024-03-30T13:36:51.813204",
     "exception": false,
     "start_time": "2024-03-30T13:36:51.811312",
     "status": "completed"
    },
    "tags": []
   },
   "source": [
    "## Placeholder"
   ]
  }
 ],
 "metadata": {
  "kaggle": {
   "accelerator": "none",
   "dataSources": [],
   "dockerImageVersionId": 30673,
   "isGpuEnabled": false,
   "isInternetEnabled": true,
   "language": "python",
   "sourceType": "notebook"
  },
  "kernelspec": {
   "display_name": "Python 3",
   "language": "python",
   "name": "python3"
  },
  "language_info": {
   "codemirror_mode": {
    "name": "ipython",
    "version": 3
   },
   "file_extension": ".py",
   "mimetype": "text/x-python",
   "name": "python",
   "nbconvert_exporter": "python",
   "pygments_lexer": "ipython3",
   "version": "3.10.13"
  },
  "papermill": {
   "default_parameters": {},
   "duration": 2.984554,
   "end_time": "2024-03-30T13:36:52.134944",
   "environment_variables": {},
   "exception": null,
   "input_path": "__notebook__.ipynb",
   "output_path": "__notebook__.ipynb",
   "parameters": {},
   "start_time": "2024-03-30T13:36:49.150390",
   "version": "2.5.0"
  }
 },
 "nbformat": 4,
 "nbformat_minor": 5
}

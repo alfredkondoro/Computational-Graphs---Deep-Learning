{
 "cells": [
  {
   "cell_type": "markdown",
   "id": "291611b1",
   "metadata": {
    "papermill": {
     "duration": 0.003909,
     "end_time": "2024-03-30T13:40:49.698353",
     "exception": false,
     "start_time": "2024-03-30T13:40:49.694444",
     "status": "completed"
    },
    "tags": []
   },
   "source": [
    "## Operations"
   ]
  },
  {
   "cell_type": "code",
   "execution_count": 1,
   "id": "c19aebf4",
   "metadata": {
    "_cell_guid": "b1076dfc-b9ad-4769-8c92-a6c4dae69d19",
    "_uuid": "8f2839f25d086af736a60e9eeb907d3b93b6e0e5",
    "execution": {
     "iopub.execute_input": "2024-03-30T13:40:49.707129Z",
     "iopub.status.busy": "2024-03-30T13:40:49.706452Z",
     "iopub.status.idle": "2024-03-30T13:40:49.717918Z",
     "shell.execute_reply": "2024-03-30T13:40:49.717187Z"
    },
    "papermill": {
     "duration": 0.018203,
     "end_time": "2024-03-30T13:40:49.719965",
     "exception": false,
     "start_time": "2024-03-30T13:40:49.701762",
     "status": "completed"
    },
    "tags": []
   },
   "outputs": [],
   "source": [
    "class Operation:\n",
    "    \"\"\"Represents a graph node that performs a computation.\n",
    "\n",
    "    An `Operation` is a node in a `Graph` that takes zero or\n",
    "    more objects as input, and produces zero or more objects\n",
    "    as output.\n",
    "    \"\"\"\n",
    "\n",
    "    def __init__(self, input_nodes=[]):\n",
    "        \"\"\"Construct Operation\n",
    "        \"\"\"\n",
    "        self.input_nodes = input_nodes\n",
    "\n",
    "        # Initialize list of consumers (i.e. nodes that receive this operation's output as input)\n",
    "        self.consumers = []\n",
    "\n",
    "        # Append this operation to the list of consumers of all input nodes\n",
    "        for input_node in input_nodes:\n",
    "            input_node.consumers.append(self)\n",
    "\n",
    "        # Append this operation to the list of operations in the currently active default graph\n",
    "        _default_graph.operations.append(self)\n",
    "\n",
    "    def compute(self):\n",
    "        \"\"\"Computes the output of this operation.\n",
    "        \"\" Must be implemented by the particular operation.\n",
    "        \"\"\"\n",
    "        pass"
   ]
  },
  {
   "cell_type": "markdown",
   "id": "f8776021",
   "metadata": {
    "papermill": {
     "duration": 0.002688,
     "end_time": "2024-03-30T13:40:49.725917",
     "exception": false,
     "start_time": "2024-03-30T13:40:49.723229",
     "status": "completed"
    },
    "tags": []
   },
   "source": [
    "## Elementary operations - Addition"
   ]
  },
  {
   "cell_type": "code",
   "execution_count": 2,
   "id": "1151cd61",
   "metadata": {
    "execution": {
     "iopub.execute_input": "2024-03-30T13:40:49.733785Z",
     "iopub.status.busy": "2024-03-30T13:40:49.733258Z",
     "iopub.status.idle": "2024-03-30T13:40:49.738634Z",
     "shell.execute_reply": "2024-03-30T13:40:49.737560Z"
    },
    "papermill": {
     "duration": 0.011698,
     "end_time": "2024-03-30T13:40:49.740473",
     "exception": false,
     "start_time": "2024-03-30T13:40:49.728775",
     "status": "completed"
    },
    "tags": []
   },
   "outputs": [],
   "source": [
    "class add(Operation):\n",
    "    \"\"\"Returns x + y element-wise.\n",
    "    \"\"\"\n",
    "\n",
    "    def __init__(self, x, y):\n",
    "        \"\"\"Construct add\n",
    "\n",
    "        Args:\n",
    "          x: First summand node\n",
    "          y: Second summand node\n",
    "        \"\"\"\n",
    "        super().__init__([x, y])\n",
    "\n",
    "    def compute(self, x_value, y_value):\n",
    "        \"\"\"Compute the output of the add operation\n",
    "\n",
    "        Args:\n",
    "          x_value: First summand value\n",
    "          y_value: Second summand value\n",
    "        \"\"\"\n",
    "        return x_value + y_value"
   ]
  },
  {
   "cell_type": "markdown",
   "id": "1b146f17",
   "metadata": {
    "papermill": {
     "duration": 0.002838,
     "end_time": "2024-03-30T13:40:49.746667",
     "exception": false,
     "start_time": "2024-03-30T13:40:49.743829",
     "status": "completed"
    },
    "tags": []
   },
   "source": [
    "## Matrix Multiplication"
   ]
  },
  {
   "cell_type": "code",
   "execution_count": 3,
   "id": "4e6c3821",
   "metadata": {
    "execution": {
     "iopub.execute_input": "2024-03-30T13:40:49.754908Z",
     "iopub.status.busy": "2024-03-30T13:40:49.754303Z",
     "iopub.status.idle": "2024-03-30T13:40:49.758968Z",
     "shell.execute_reply": "2024-03-30T13:40:49.758370Z"
    },
    "papermill": {
     "duration": 0.011503,
     "end_time": "2024-03-30T13:40:49.761278",
     "exception": false,
     "start_time": "2024-03-30T13:40:49.749775",
     "status": "completed"
    },
    "tags": []
   },
   "outputs": [],
   "source": [
    "class matmul(Operation):\n",
    "    \"\"\"Multiplies matrix a by matrix b, producing a * b.\n",
    "    \"\"\"\n",
    "\n",
    "    def __init__(self, a, b):\n",
    "        \"\"\"Construct matmul\n",
    "\n",
    "        Args:\n",
    "          a: First matrix\n",
    "          b: Second matrix\n",
    "        \"\"\"\n",
    "        super().__init__([a, b])\n",
    "\n",
    "    def compute(self, a_value, b_value):\n",
    "        \"\"\"Compute the output of the matmul operation\n",
    "\n",
    "        Args:\n",
    "          a_value: First matrix value\n",
    "          b_value: Second matrix value\n",
    "        \"\"\"\n",
    "        return a_value.dot(b_value)"
   ]
  },
  {
   "cell_type": "markdown",
   "id": "0dbbf933",
   "metadata": {
    "papermill": {
     "duration": 0.002937,
     "end_time": "2024-03-30T13:40:49.767867",
     "exception": false,
     "start_time": "2024-03-30T13:40:49.764930",
     "status": "completed"
    },
    "tags": []
   },
   "source": [
    "## Placeholder"
   ]
  },
  {
   "cell_type": "code",
   "execution_count": 4,
   "id": "a1915e54",
   "metadata": {
    "execution": {
     "iopub.execute_input": "2024-03-30T13:40:49.776961Z",
     "iopub.status.busy": "2024-03-30T13:40:49.775934Z",
     "iopub.status.idle": "2024-03-30T13:40:49.781913Z",
     "shell.execute_reply": "2024-03-30T13:40:49.781014Z"
    },
    "papermill": {
     "duration": 0.013258,
     "end_time": "2024-03-30T13:40:49.784278",
     "exception": false,
     "start_time": "2024-03-30T13:40:49.771020",
     "status": "completed"
    },
    "tags": []
   },
   "outputs": [],
   "source": [
    "class placeholder:\n",
    "    \"\"\"Represents a placeholder node that has to be provided with a value\n",
    "       when computing the output of a computational graph\n",
    "    \"\"\"\n",
    "\n",
    "    def __init__(self):\n",
    "        \"\"\"Construct placeholder\n",
    "        \"\"\"\n",
    "        self.consumers = []\n",
    "\n",
    "        # Append this placeholder to the list of placeholders in the currently active default graph\n",
    "        _default_graph.placeholders.append(self)"
   ]
  },
  {
   "cell_type": "markdown",
   "id": "2d2d5c88",
   "metadata": {
    "papermill": {
     "duration": 0.003095,
     "end_time": "2024-03-30T13:40:49.790937",
     "exception": false,
     "start_time": "2024-03-30T13:40:49.787842",
     "status": "completed"
    },
    "tags": []
   },
   "source": [
    "## Variables"
   ]
  },
  {
   "cell_type": "code",
   "execution_count": 5,
   "id": "2f1059c8",
   "metadata": {
    "execution": {
     "iopub.execute_input": "2024-03-30T13:40:49.799032Z",
     "iopub.status.busy": "2024-03-30T13:40:49.798632Z",
     "iopub.status.idle": "2024-03-30T13:40:49.803469Z",
     "shell.execute_reply": "2024-03-30T13:40:49.802628Z"
    },
    "papermill": {
     "duration": 0.01146,
     "end_time": "2024-03-30T13:40:49.805580",
     "exception": false,
     "start_time": "2024-03-30T13:40:49.794120",
     "status": "completed"
    },
    "tags": []
   },
   "outputs": [],
   "source": [
    "class Variable:\n",
    "    \"\"\"Represents a variable (i.e. an intrinsic, changeable parameter of a computational graph).\n",
    "    \"\"\"\n",
    "\n",
    "    def __init__(self, initial_value=None):\n",
    "        \"\"\"Construct Variable\n",
    "\n",
    "        Args:\n",
    "          initial_value: The initial value of this variable\n",
    "        \"\"\"\n",
    "        self.value = initial_value\n",
    "        self.consumers = []\n",
    "\n",
    "        # Append this variable to the list of variables in the currently active default graph\n",
    "        _default_graph.variables.append(self)"
   ]
  },
  {
   "cell_type": "markdown",
   "id": "d10dde6c",
   "metadata": {
    "papermill": {
     "duration": 0.002946,
     "end_time": "2024-03-30T13:40:49.811995",
     "exception": false,
     "start_time": "2024-03-30T13:40:49.809049",
     "status": "completed"
    },
    "tags": []
   },
   "source": [
    "## Graph Class"
   ]
  },
  {
   "cell_type": "code",
   "execution_count": 6,
   "id": "d9931864",
   "metadata": {
    "execution": {
     "iopub.execute_input": "2024-03-30T13:40:49.820137Z",
     "iopub.status.busy": "2024-03-30T13:40:49.819521Z",
     "iopub.status.idle": "2024-03-30T13:40:49.824212Z",
     "shell.execute_reply": "2024-03-30T13:40:49.823578Z"
    },
    "papermill": {
     "duration": 0.010671,
     "end_time": "2024-03-30T13:40:49.825886",
     "exception": false,
     "start_time": "2024-03-30T13:40:49.815215",
     "status": "completed"
    },
    "tags": []
   },
   "outputs": [],
   "source": [
    "class Graph:\n",
    "    \"\"\"Represents a computational graph\n",
    "    \"\"\"\n",
    "\n",
    "    def __init__(self):\n",
    "        \"\"\"Construct Graph\"\"\"\n",
    "        self.operations = []\n",
    "        self.placeholders = []\n",
    "        self.variables = []\n",
    "\n",
    "    def as_default(self):\n",
    "        global _default_graph\n",
    "        _default_graph = self"
   ]
  },
  {
   "cell_type": "markdown",
   "id": "10da34f0",
   "metadata": {
    "papermill": {
     "duration": 0.00274,
     "end_time": "2024-03-30T13:40:49.831924",
     "exception": false,
     "start_time": "2024-03-30T13:40:49.829184",
     "status": "completed"
    },
    "tags": []
   },
   "source": [
    "## Example"
   ]
  },
  {
   "cell_type": "code",
   "execution_count": 7,
   "id": "faeeee0c",
   "metadata": {
    "execution": {
     "iopub.execute_input": "2024-03-30T13:40:49.839730Z",
     "iopub.status.busy": "2024-03-30T13:40:49.839160Z",
     "iopub.status.idle": "2024-03-30T13:40:49.843815Z",
     "shell.execute_reply": "2024-03-30T13:40:49.843241Z"
    },
    "papermill": {
     "duration": 0.010626,
     "end_time": "2024-03-30T13:40:49.845503",
     "exception": false,
     "start_time": "2024-03-30T13:40:49.834877",
     "status": "completed"
    },
    "tags": []
   },
   "outputs": [],
   "source": [
    "# Create a new graph\n",
    "Graph().as_default()\n",
    "\n",
    "# Create variables\n",
    "A = Variable([[1, 0], [0, -1]])\n",
    "b = Variable([1, 1])\n",
    "\n",
    "# Create placeholder\n",
    "x = placeholder()\n",
    "\n",
    "# Create hidden node y\n",
    "y = matmul(A, x)\n",
    "\n",
    "# Create output node z\n",
    "z = add(y, b)"
   ]
  }
 ],
 "metadata": {
  "kaggle": {
   "accelerator": "none",
   "dataSources": [],
   "dockerImageVersionId": 30673,
   "isGpuEnabled": false,
   "isInternetEnabled": true,
   "language": "python",
   "sourceType": "notebook"
  },
  "kernelspec": {
   "display_name": "Python 3",
   "language": "python",
   "name": "python3"
  },
  "language_info": {
   "codemirror_mode": {
    "name": "ipython",
    "version": 3
   },
   "file_extension": ".py",
   "mimetype": "text/x-python",
   "name": "python",
   "nbconvert_exporter": "python",
   "pygments_lexer": "ipython3",
   "version": "3.10.13"
  },
  "papermill": {
   "default_parameters": {},
   "duration": 2.937653,
   "end_time": "2024-03-30T13:40:50.268807",
   "environment_variables": {},
   "exception": null,
   "input_path": "__notebook__.ipynb",
   "output_path": "__notebook__.ipynb",
   "parameters": {},
   "start_time": "2024-03-30T13:40:47.331154",
   "version": "2.5.0"
  }
 },
 "nbformat": 4,
 "nbformat_minor": 5
}

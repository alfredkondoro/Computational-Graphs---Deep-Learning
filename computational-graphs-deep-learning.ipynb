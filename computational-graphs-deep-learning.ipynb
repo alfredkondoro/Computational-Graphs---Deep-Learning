{
 "cells": [
  {
   "cell_type": "markdown",
   "id": "7df955d3",
   "metadata": {
    "papermill": {
     "duration": 0.006148,
     "end_time": "2024-03-30T13:41:59.029716",
     "exception": false,
     "start_time": "2024-03-30T13:41:59.023568",
     "status": "completed"
    },
    "tags": []
   },
   "source": [
    "## Operations"
   ]
  },
  {
   "cell_type": "code",
   "execution_count": 1,
   "id": "560fd9df",
   "metadata": {
    "_cell_guid": "b1076dfc-b9ad-4769-8c92-a6c4dae69d19",
    "_uuid": "8f2839f25d086af736a60e9eeb907d3b93b6e0e5",
    "execution": {
     "iopub.execute_input": "2024-03-30T13:41:59.043181Z",
     "iopub.status.busy": "2024-03-30T13:41:59.042748Z",
     "iopub.status.idle": "2024-03-30T13:41:59.059779Z",
     "shell.execute_reply": "2024-03-30T13:41:59.058599Z"
    },
    "papermill": {
     "duration": 0.026846,
     "end_time": "2024-03-30T13:41:59.062498",
     "exception": false,
     "start_time": "2024-03-30T13:41:59.035652",
     "status": "completed"
    },
    "tags": []
   },
   "outputs": [],
   "source": [
    "class Operation:\n",
    "    \"\"\"Represents a graph node that performs a computation.\n",
    "\n",
    "    An `Operation` is a node in a `Graph` that takes zero or\n",
    "    more objects as input, and produces zero or more objects\n",
    "    as output.\n",
    "    \"\"\"\n",
    "\n",
    "    def __init__(self, input_nodes=[]):\n",
    "        \"\"\"Construct Operation\n",
    "        \"\"\"\n",
    "        self.input_nodes = input_nodes\n",
    "\n",
    "        # Initialize list of consumers (i.e. nodes that receive this operation's output as input)\n",
    "        self.consumers = []\n",
    "\n",
    "        # Append this operation to the list of consumers of all input nodes\n",
    "        for input_node in input_nodes:\n",
    "            input_node.consumers.append(self)\n",
    "\n",
    "        # Append this operation to the list of operations in the currently active default graph\n",
    "        _default_graph.operations.append(self)\n",
    "\n",
    "    def compute(self):\n",
    "        \"\"\"Computes the output of this operation.\n",
    "        \"\" Must be implemented by the particular operation.\n",
    "        \"\"\"\n",
    "        pass"
   ]
  },
  {
   "cell_type": "markdown",
   "id": "1cc1c426",
   "metadata": {
    "papermill": {
     "duration": 0.005415,
     "end_time": "2024-03-30T13:41:59.073561",
     "exception": false,
     "start_time": "2024-03-30T13:41:59.068146",
     "status": "completed"
    },
    "tags": []
   },
   "source": [
    "## Elementary operations - Addition"
   ]
  },
  {
   "cell_type": "code",
   "execution_count": 2,
   "id": "5089d9c0",
   "metadata": {
    "execution": {
     "iopub.execute_input": "2024-03-30T13:41:59.086826Z",
     "iopub.status.busy": "2024-03-30T13:41:59.086402Z",
     "iopub.status.idle": "2024-03-30T13:41:59.093040Z",
     "shell.execute_reply": "2024-03-30T13:41:59.091855Z"
    },
    "papermill": {
     "duration": 0.016627,
     "end_time": "2024-03-30T13:41:59.095986",
     "exception": false,
     "start_time": "2024-03-30T13:41:59.079359",
     "status": "completed"
    },
    "tags": []
   },
   "outputs": [],
   "source": [
    "class add(Operation):\n",
    "    \"\"\"Returns x + y element-wise.\n",
    "    \"\"\"\n",
    "\n",
    "    def __init__(self, x, y):\n",
    "        \"\"\"Construct add\n",
    "\n",
    "        Args:\n",
    "          x: First summand node\n",
    "          y: Second summand node\n",
    "        \"\"\"\n",
    "        super().__init__([x, y])\n",
    "\n",
    "    def compute(self, x_value, y_value):\n",
    "        \"\"\"Compute the output of the add operation\n",
    "\n",
    "        Args:\n",
    "          x_value: First summand value\n",
    "          y_value: Second summand value\n",
    "        \"\"\"\n",
    "        return x_value + y_value"
   ]
  },
  {
   "cell_type": "markdown",
   "id": "d6572d1f",
   "metadata": {
    "papermill": {
     "duration": 0.005364,
     "end_time": "2024-03-30T13:41:59.107126",
     "exception": false,
     "start_time": "2024-03-30T13:41:59.101762",
     "status": "completed"
    },
    "tags": []
   },
   "source": [
    "## Matrix Multiplication"
   ]
  },
  {
   "cell_type": "code",
   "execution_count": 3,
   "id": "97cce766",
   "metadata": {
    "execution": {
     "iopub.execute_input": "2024-03-30T13:41:59.120554Z",
     "iopub.status.busy": "2024-03-30T13:41:59.120099Z",
     "iopub.status.idle": "2024-03-30T13:41:59.127524Z",
     "shell.execute_reply": "2024-03-30T13:41:59.126149Z"
    },
    "papermill": {
     "duration": 0.017388,
     "end_time": "2024-03-30T13:41:59.130134",
     "exception": false,
     "start_time": "2024-03-30T13:41:59.112746",
     "status": "completed"
    },
    "tags": []
   },
   "outputs": [],
   "source": [
    "class matmul(Operation):\n",
    "    \"\"\"Multiplies matrix a by matrix b, producing a * b.\n",
    "    \"\"\"\n",
    "\n",
    "    def __init__(self, a, b):\n",
    "        \"\"\"Construct matmul\n",
    "\n",
    "        Args:\n",
    "          a: First matrix\n",
    "          b: Second matrix\n",
    "        \"\"\"\n",
    "        super().__init__([a, b])\n",
    "\n",
    "    def compute(self, a_value, b_value):\n",
    "        \"\"\"Compute the output of the matmul operation\n",
    "\n",
    "        Args:\n",
    "          a_value: First matrix value\n",
    "          b_value: Second matrix value\n",
    "        \"\"\"\n",
    "        return a_value.dot(b_value)"
   ]
  },
  {
   "cell_type": "markdown",
   "id": "47993fd7",
   "metadata": {
    "papermill": {
     "duration": 0.005461,
     "end_time": "2024-03-30T13:41:59.141403",
     "exception": false,
     "start_time": "2024-03-30T13:41:59.135942",
     "status": "completed"
    },
    "tags": []
   },
   "source": [
    "## Placeholder"
   ]
  },
  {
   "cell_type": "code",
   "execution_count": 4,
   "id": "9f09f60a",
   "metadata": {
    "execution": {
     "iopub.execute_input": "2024-03-30T13:41:59.154598Z",
     "iopub.status.busy": "2024-03-30T13:41:59.154200Z",
     "iopub.status.idle": "2024-03-30T13:41:59.160725Z",
     "shell.execute_reply": "2024-03-30T13:41:59.159442Z"
    },
    "papermill": {
     "duration": 0.016188,
     "end_time": "2024-03-30T13:41:59.163288",
     "exception": false,
     "start_time": "2024-03-30T13:41:59.147100",
     "status": "completed"
    },
    "tags": []
   },
   "outputs": [],
   "source": [
    "class placeholder:\n",
    "    \"\"\"Represents a placeholder node that has to be provided with a value\n",
    "       when computing the output of a computational graph\n",
    "    \"\"\"\n",
    "\n",
    "    def __init__(self):\n",
    "        \"\"\"Construct placeholder\n",
    "        \"\"\"\n",
    "        self.consumers = []\n",
    "\n",
    "        # Append this placeholder to the list of placeholders in the currently active default graph\n",
    "        _default_graph.placeholders.append(self)"
   ]
  },
  {
   "cell_type": "markdown",
   "id": "b5657084",
   "metadata": {
    "papermill": {
     "duration": 0.005333,
     "end_time": "2024-03-30T13:41:59.174385",
     "exception": false,
     "start_time": "2024-03-30T13:41:59.169052",
     "status": "completed"
    },
    "tags": []
   },
   "source": [
    "## Variables"
   ]
  },
  {
   "cell_type": "code",
   "execution_count": 5,
   "id": "8008370e",
   "metadata": {
    "execution": {
     "iopub.execute_input": "2024-03-30T13:41:59.187612Z",
     "iopub.status.busy": "2024-03-30T13:41:59.187174Z",
     "iopub.status.idle": "2024-03-30T13:41:59.193800Z",
     "shell.execute_reply": "2024-03-30T13:41:59.192435Z"
    },
    "papermill": {
     "duration": 0.016481,
     "end_time": "2024-03-30T13:41:59.196476",
     "exception": false,
     "start_time": "2024-03-30T13:41:59.179995",
     "status": "completed"
    },
    "tags": []
   },
   "outputs": [],
   "source": [
    "class Variable:\n",
    "    \"\"\"Represents a variable (i.e. an intrinsic, changeable parameter of a computational graph).\n",
    "    \"\"\"\n",
    "\n",
    "    def __init__(self, initial_value=None):\n",
    "        \"\"\"Construct Variable\n",
    "\n",
    "        Args:\n",
    "          initial_value: The initial value of this variable\n",
    "        \"\"\"\n",
    "        self.value = initial_value\n",
    "        self.consumers = []\n",
    "\n",
    "        # Append this variable to the list of variables in the currently active default graph\n",
    "        _default_graph.variables.append(self)"
   ]
  },
  {
   "cell_type": "markdown",
   "id": "b6e615ff",
   "metadata": {
    "papermill": {
     "duration": 0.005764,
     "end_time": "2024-03-30T13:41:59.208018",
     "exception": false,
     "start_time": "2024-03-30T13:41:59.202254",
     "status": "completed"
    },
    "tags": []
   },
   "source": [
    "## Graph Class"
   ]
  },
  {
   "cell_type": "code",
   "execution_count": 6,
   "id": "dccd1d5c",
   "metadata": {
    "execution": {
     "iopub.execute_input": "2024-03-30T13:41:59.221386Z",
     "iopub.status.busy": "2024-03-30T13:41:59.221012Z",
     "iopub.status.idle": "2024-03-30T13:41:59.226933Z",
     "shell.execute_reply": "2024-03-30T13:41:59.225617Z"
    },
    "papermill": {
     "duration": 0.015538,
     "end_time": "2024-03-30T13:41:59.229427",
     "exception": false,
     "start_time": "2024-03-30T13:41:59.213889",
     "status": "completed"
    },
    "tags": []
   },
   "outputs": [],
   "source": [
    "class Graph:\n",
    "    \"\"\"Represents a computational graph\n",
    "    \"\"\"\n",
    "\n",
    "    def __init__(self):\n",
    "        \"\"\"Construct Graph\"\"\"\n",
    "        self.operations = []\n",
    "        self.placeholders = []\n",
    "        self.variables = []\n",
    "\n",
    "    def as_default(self):\n",
    "        global _default_graph\n",
    "        _default_graph = self"
   ]
  },
  {
   "cell_type": "markdown",
   "id": "feb5ff25",
   "metadata": {
    "papermill": {
     "duration": 0.005315,
     "end_time": "2024-03-30T13:41:59.240433",
     "exception": false,
     "start_time": "2024-03-30T13:41:59.235118",
     "status": "completed"
    },
    "tags": []
   },
   "source": [
    "## Example"
   ]
  },
  {
   "cell_type": "code",
   "execution_count": 7,
   "id": "3c112f2a",
   "metadata": {
    "execution": {
     "iopub.execute_input": "2024-03-30T13:41:59.253486Z",
     "iopub.status.busy": "2024-03-30T13:41:59.253116Z",
     "iopub.status.idle": "2024-03-30T13:41:59.259517Z",
     "shell.execute_reply": "2024-03-30T13:41:59.258101Z"
    },
    "papermill": {
     "duration": 0.015767,
     "end_time": "2024-03-30T13:41:59.261828",
     "exception": false,
     "start_time": "2024-03-30T13:41:59.246061",
     "status": "completed"
    },
    "tags": []
   },
   "outputs": [],
   "source": [
    "# Create a new graph\n",
    "Graph().as_default()\n",
    "\n",
    "# Create variables\n",
    "A = Variable([[1, 0], [0, -1]])\n",
    "b = Variable([1, 1])\n",
    "\n",
    "# Create placeholder\n",
    "x = placeholder()\n",
    "\n",
    "# Create hidden node y\n",
    "y = matmul(A, x)\n",
    "\n",
    "# Create output node z\n",
    "z = add(y, b)"
   ]
  },
  {
   "cell_type": "markdown",
   "id": "4f5b94cb",
   "metadata": {
    "papermill": {
     "duration": 0.005338,
     "end_time": "2024-03-30T13:41:59.272844",
     "exception": false,
     "start_time": "2024-03-30T13:41:59.267506",
     "status": "completed"
    },
    "tags": []
   },
   "source": [
    "## Session"
   ]
  },
  {
   "cell_type": "code",
   "execution_count": 8,
   "id": "3d9d68b0",
   "metadata": {
    "execution": {
     "iopub.execute_input": "2024-03-30T13:41:59.285932Z",
     "iopub.status.busy": "2024-03-30T13:41:59.285516Z",
     "iopub.status.idle": "2024-03-30T13:41:59.298192Z",
     "shell.execute_reply": "2024-03-30T13:41:59.297062Z"
    },
    "papermill": {
     "duration": 0.022173,
     "end_time": "2024-03-30T13:41:59.300558",
     "exception": false,
     "start_time": "2024-03-30T13:41:59.278385",
     "status": "completed"
    },
    "tags": []
   },
   "outputs": [],
   "source": [
    "import numpy as np\n",
    "\n",
    "\n",
    "class Session:\n",
    "    \"\"\"Represents a particular execution of a computational graph.\n",
    "    \"\"\"\n",
    "\n",
    "    def run(self, operation, feed_dict={}):\n",
    "        \"\"\"Computes the output of an operation\n",
    "\n",
    "        Args:\n",
    "          operation: The operation whose output we'd like to compute.\n",
    "          feed_dict: A dictionary that maps placeholders to values for this session\n",
    "        \"\"\"\n",
    "\n",
    "        # Perform a post-order traversal of the graph to bring the nodes into the right order\n",
    "        nodes_postorder = traverse_postorder(operation)\n",
    "\n",
    "        # Iterate all nodes to determine their value\n",
    "        for node in nodes_postorder:\n",
    "\n",
    "            if type(node) == placeholder:\n",
    "                # Set the node value to the placeholder value from feed_dict\n",
    "                node.output = feed_dict[node]\n",
    "            elif type(node) == Variable:\n",
    "                # Set the node value to the variable's value attribute\n",
    "                node.output = node.value\n",
    "            else:  # Operation\n",
    "                # Get the input values for this operation from the output values of the input nodes\n",
    "                node.inputs = [input_node.output for input_node in node.input_nodes]\n",
    "\n",
    "                # Compute the output of this operation\n",
    "                node.output = node.compute(*node.inputs)\n",
    "\n",
    "            # Convert lists to numpy arrays\n",
    "            if type(node.output) == list:\n",
    "                node.output = np.array(node.output)\n",
    "\n",
    "        # Return the requested node value\n",
    "        return operation.output\n",
    "\n",
    "\n",
    "def traverse_postorder(operation):\n",
    "    \"\"\"Performs a post-order traversal, returning a list of nodes\n",
    "    in the order in which they have to be computed\n",
    "\n",
    "    Args:\n",
    "       operation: The operation to start traversal at\n",
    "    \"\"\"\n",
    "\n",
    "    nodes_postorder = []\n",
    "\n",
    "    def recurse(node):\n",
    "        if isinstance(node, Operation):\n",
    "            for input_node in node.input_nodes:\n",
    "                recurse(input_node)\n",
    "        nodes_postorder.append(node)\n",
    "\n",
    "    recurse(operation)\n",
    "    return nodes_postorder"
   ]
  },
  {
   "cell_type": "code",
   "execution_count": 9,
   "id": "100ab227",
   "metadata": {
    "execution": {
     "iopub.execute_input": "2024-03-30T13:41:59.314136Z",
     "iopub.status.busy": "2024-03-30T13:41:59.313758Z",
     "iopub.status.idle": "2024-03-30T13:41:59.323990Z",
     "shell.execute_reply": "2024-03-30T13:41:59.322450Z"
    },
    "papermill": {
     "duration": 0.019958,
     "end_time": "2024-03-30T13:41:59.326379",
     "exception": false,
     "start_time": "2024-03-30T13:41:59.306421",
     "status": "completed"
    },
    "tags": []
   },
   "outputs": [
    {
     "name": "stdout",
     "output_type": "stream",
     "text": [
      "[ 2 -1]\n"
     ]
    }
   ],
   "source": [
    "session = Session()\n",
    "output = session.run(z, {\n",
    "    x: [1, 2]\n",
    "})\n",
    "print(output)"
   ]
  }
 ],
 "metadata": {
  "kaggle": {
   "accelerator": "none",
   "dataSources": [],
   "dockerImageVersionId": 30673,
   "isGpuEnabled": false,
   "isInternetEnabled": true,
   "language": "python",
   "sourceType": "notebook"
  },
  "kernelspec": {
   "display_name": "Python 3",
   "language": "python",
   "name": "python3"
  },
  "language_info": {
   "codemirror_mode": {
    "name": "ipython",
    "version": 3
   },
   "file_extension": ".py",
   "mimetype": "text/x-python",
   "name": "python",
   "nbconvert_exporter": "python",
   "pygments_lexer": "ipython3",
   "version": "3.10.13"
  },
  "papermill": {
   "default_parameters": {},
   "duration": 4.124391,
   "end_time": "2024-03-30T13:41:59.753710",
   "environment_variables": {},
   "exception": null,
   "input_path": "__notebook__.ipynb",
   "output_path": "__notebook__.ipynb",
   "parameters": {},
   "start_time": "2024-03-30T13:41:55.629319",
   "version": "2.5.0"
  }
 },
 "nbformat": 4,
 "nbformat_minor": 5
}
